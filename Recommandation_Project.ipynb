{
 "cells": [
  {
   "cell_type": "markdown",
   "id": "9d0a8725-77b9-4171-b049-c1b7df2b849c",
   "metadata": {},
   "source": [
    "## Réalisez une application de recommandation de contenu"
   ]
  },
  {
   "cell_type": "markdown",
   "id": "3cb3a10a-5cd5-46d3-b465-6495e6f088dc",
   "metadata": {},
   "source": [
    "### Présentation du projet"
   ]
  },
  {
   "cell_type": "markdown",
   "id": "12f0b058-c46b-45e1-9959-03791cf054a2",
   "metadata": {},
   "source": [
    "My Content est une start-up qui veut encourager la lecture en recommandant des contenus pertinents pour ses utilisateurs. \n",
    "\n",
    "Avec la co-fondatrice nous souhaitons tester une solution de recommandation d’articles et de livres à des particuliers.\n",
    "\n",
    "Comme nous ne disposons pas de données utilisateurs, nous allons utiliser [des données disponibles en ligne](https://www.kaggle.com/datasets/gspmoreira/news-portal-user-interactions-by-globocom/data) pour développer notre MVP (Minimum Viable Product).\n",
    "\n",
    "Ces données représentent les interactions des utilisateurs avec les articles disponibles. Elles contiennent des informations sur les articles (par exemple le nombre de mots dans l’article), ainsi que les informations sur les sessions des utilisateurs (par exemple heures de début et de fin) et les interactions des utilisateurs avec les articles (sur quel article l’utilisateur a-t-il cliqué lors de sa session ?).\n",
    "\n",
    "Dans une logique MVP nous avons identifié la fonctionnalité la plus critique pour lancer votre application :  \"En tant qu’utilisateur de l’application, je vais recevoir une sélection de cinq articles.\"\n",
    "\n",
    "Nous avons, également, identifié que la prise en compte de l’ajout de nouveaux utilisateurs et de nouveaux articles dans l’architecture cible de votre produit est déterminante."
   ]
  },
  {
   "cell_type": "markdown",
   "id": "8f37be46-a7a6-4ac8-b6c5-4862efa4dc87",
   "metadata": {},
   "source": [
    "### Présentation des données"
   ]
  },
  {
   "cell_type": "markdown",
   "id": "080cc487-289c-4996-8868-1f900073d232",
   "metadata": {},
   "source": [
    "L’ensemble de données contient un échantillon d’interactions d’utilisateurs (pages vues) sur le portail d’actualités G1 du 1er au 16 octobre 2017, y compris environ 3 millions de clics, répartis en plus d’un million de sessions de 314 000 utilisateurs qui ont lu plus de 46 000 articles de presse différents au cours de cette période.\n",
    "\n",
    "Il est composé de trois fichiers/dossiers :\n",
    "\n",
    "- clicks.zip : Dossier contenant des fichiers CSV (un par heure), contenant les interactions des sessions utilisateurs dans le portail d’actualités.\n",
    "- articles_metadata.csv : Fichier CSV contenant des informations sur tous les articles publiés (364047).\n",
    "- articles_embeddings.pickle : une matrice NumPy contenant les plongements de contenu de l’article (vecteurs à 250 dimensions), entraînée sur le texte des articles.\n",
    "- clicks_sample.csv : fichier CSV contenant un échantillon des intéractions des sessions des utilisateurs."
   ]
  },
  {
   "cell_type": "markdown",
   "id": "06e9b2c6-e52a-4a4a-b4a6-f60c2c1bb749",
   "metadata": {},
   "source": [
    "### Importation des bibliothèques"
   ]
  },
  {
   "cell_type": "code",
   "execution_count": 14,
   "id": "61ee4fba-3035-4bbc-9551-78f16f11d3ed",
   "metadata": {},
   "outputs": [],
   "source": [
    "from math import *\n",
    "from heapq import nlargest\n",
    "import os\n",
    "import pandas as pd\n",
    "import numpy as np\n",
    "import matplotlib.pyplot as plt\n",
    "import pickle\n",
    "from sklearn.metrics.pairwise import cosine_similarity\n",
    "from sklearn.decomposition import PCA\n",
    "from surprise import Dataset, Reader, SVD, accuracy, dump\n",
    "from surprise.model_selection import train_test_split"
   ]
  },
  {
   "cell_type": "markdown",
   "id": "f5a5c886-5e56-485e-b660-463056f96c01",
   "metadata": {},
   "source": [
    "### Exploration du dataset"
   ]
  },
  {
   "cell_type": "markdown",
   "id": "94849f90-4204-453b-a270-79666c8e8d53",
   "metadata": {},
   "source": [
    "### Chargement des données"
   ]
  },
  {
   "cell_type": "markdown",
   "id": "dcb6c454-161a-48f0-ade4-8e21893a4063",
   "metadata": {},
   "source": [
    "#### articles_metadata.csv"
   ]
  },
  {
   "cell_type": "code",
   "execution_count": 15,
   "id": "92446710-6e3f-4d3c-be95-5740365c7dd8",
   "metadata": {},
   "outputs": [
    {
     "name": "stdout",
     "output_type": "stream",
     "text": [
      "   article_id  category_id  created_at_ts  publisher_id  words_count\n",
      "0           0            0  1513144419000             0          168\n",
      "1           1            1  1405341936000             0          189\n",
      "2           2            1  1408667706000             0          250\n",
      "3           3            1  1408468313000             0          230\n",
      "4           4            1  1407071171000             0          162\n"
     ]
    }
   ],
   "source": [
    "# Définir le chemin du répertoire\n",
    "data_path = \"/Users/Dhaker/Documents/Recommandation_App/projetdix/\"\n",
    "\n",
    "# Charger le fichier CSV dans un DataFrame\n",
    "data = pd.read_csv(data_path + \"articles_metadata.csv\")\n",
    "\n",
    "# Afficher les premières lignes du DataFrame pour vérifier le chargement\n",
    "print(data.head())"
   ]
  },
  {
   "cell_type": "markdown",
   "id": "e6552212-60c5-425f-a90d-dbb4006bdce4",
   "metadata": {},
   "source": [
    "article_id : identifiant unique de l’article\n",
    "\n",
    "category_id : la catégorie de l’article, il y a 461 catégories.\n",
    "\n",
    "created_at_ts : secondes passées depuis de la création de l’article.\n",
    "\n",
    "publisher_id : uiquement la valeur 0\n",
    "\n",
    "words_count : nombre de mots dans l’article. De 0 à 6690."
   ]
  },
  {
   "cell_type": "code",
   "execution_count": 16,
   "id": "711a212a-f746-4cd8-9519-06b36a0f4e85",
   "metadata": {},
   "outputs": [
    {
     "data": {
      "text/plain": [
       "article_id       int64\n",
       "category_id      int64\n",
       "created_at_ts    int64\n",
       "publisher_id     int64\n",
       "words_count      int64\n",
       "dtype: object"
      ]
     },
     "execution_count": 16,
     "metadata": {},
     "output_type": "execute_result"
    }
   ],
   "source": [
    "data.dtypes"
   ]
  },
  {
   "cell_type": "code",
   "execution_count": 17,
   "id": "81a391a2-e999-451c-8b90-364a01c185d2",
   "metadata": {},
   "outputs": [
    {
     "data": {
      "text/plain": [
       "article_id       0\n",
       "category_id      0\n",
       "created_at_ts    0\n",
       "publisher_id     0\n",
       "words_count      0\n",
       "dtype: int64"
      ]
     },
     "execution_count": 17,
     "metadata": {},
     "output_type": "execute_result"
    }
   ],
   "source": [
    "data.isnull().sum().sort_values(ascending=False)"
   ]
  },
  {
   "cell_type": "code",
   "execution_count": 18,
   "id": "cbe577c9-4c54-48e4-b555-64750255ca33",
   "metadata": {},
   "outputs": [
    {
     "data": {
      "text/plain": [
       "article_id\n",
       "0         1\n",
       "242727    1\n",
       "242703    1\n",
       "242702    1\n",
       "242701    1\n",
       "         ..\n",
       "121347    1\n",
       "121346    1\n",
       "121345    1\n",
       "121344    1\n",
       "364046    1\n",
       "Name: count, Length: 364047, dtype: int64"
      ]
     },
     "execution_count": 18,
     "metadata": {},
     "output_type": "execute_result"
    }
   ],
   "source": [
    "data[\"article_id\"].value_counts()"
   ]
  },
  {
   "cell_type": "code",
   "execution_count": 19,
   "id": "1be063d2-631c-4982-a493-5526587d06a2",
   "metadata": {},
   "outputs": [
    {
     "data": {
      "text/plain": [
       "category_id\n",
       "281    12817\n",
       "375    10005\n",
       "399     9049\n",
       "412     8648\n",
       "431     7759\n",
       "       ...  \n",
       "283        1\n",
       "282        1\n",
       "206        1\n",
       "217        1\n",
       "0          1\n",
       "Name: count, Length: 461, dtype: int64"
      ]
     },
     "execution_count": 19,
     "metadata": {},
     "output_type": "execute_result"
    }
   ],
   "source": [
    "data[\"category_id\"].value_counts().sort_values(ascending=False)"
   ]
  },
  {
   "cell_type": "code",
   "execution_count": 20,
   "id": "adeb78e0-a638-4d50-ac64-9e8dcee08fda",
   "metadata": {},
   "outputs": [
    {
     "data": {
      "text/plain": [
       "publisher_id\n",
       "0    364047\n",
       "Name: count, dtype: int64"
      ]
     },
     "execution_count": 20,
     "metadata": {},
     "output_type": "execute_result"
    }
   ],
   "source": [
    "data[\"publisher_id\"].value_counts()"
   ]
  },
  {
   "cell_type": "code",
   "execution_count": 21,
   "id": "fb03ddf3-3bcf-4d2c-ba8e-5bef56747fc9",
   "metadata": {},
   "outputs": [
    {
     "data": {
      "text/plain": [
       "words_count\n",
       "176     3485\n",
       "182     3480\n",
       "179     3463\n",
       "178     3458\n",
       "174     3456\n",
       "        ... \n",
       "665        1\n",
       "726        1\n",
       "2881       1\n",
       "669        1\n",
       "841        1\n",
       "Name: count, Length: 866, dtype: int64"
      ]
     },
     "execution_count": 21,
     "metadata": {},
     "output_type": "execute_result"
    }
   ],
   "source": [
    "data[\"words_count\"].value_counts().sort_values(ascending=False)"
   ]
  },
  {
   "cell_type": "code",
   "execution_count": 22,
   "id": "83647de0-23b7-4b7c-906a-3935fdccfea8",
   "metadata": {},
   "outputs": [
    {
     "data": {
      "text/plain": [
       "(364047, 5)"
      ]
     },
     "execution_count": 22,
     "metadata": {},
     "output_type": "execute_result"
    }
   ],
   "source": [
    "data.shape"
   ]
  },
  {
   "cell_type": "code",
   "execution_count": 23,
   "id": "de81795a-9e87-43b7-afdd-c16c6a423356",
   "metadata": {},
   "outputs": [
    {
     "data": {
      "text/html": [
       "<div>\n",
       "<style scoped>\n",
       "    .dataframe tbody tr th:only-of-type {\n",
       "        vertical-align: middle;\n",
       "    }\n",
       "\n",
       "    .dataframe tbody tr th {\n",
       "        vertical-align: top;\n",
       "    }\n",
       "\n",
       "    .dataframe thead th {\n",
       "        text-align: right;\n",
       "    }\n",
       "</style>\n",
       "<table border=\"1\" class=\"dataframe\">\n",
       "  <thead>\n",
       "    <tr style=\"text-align: right;\">\n",
       "      <th></th>\n",
       "      <th>article_id</th>\n",
       "      <th>category_id</th>\n",
       "      <th>created_at_ts</th>\n",
       "      <th>publisher_id</th>\n",
       "      <th>words_count</th>\n",
       "    </tr>\n",
       "  </thead>\n",
       "  <tbody>\n",
       "    <tr>\n",
       "      <th>count</th>\n",
       "      <td>364047.000000</td>\n",
       "      <td>364047.000000</td>\n",
       "      <td>3.640470e+05</td>\n",
       "      <td>364047.0</td>\n",
       "      <td>364047.000000</td>\n",
       "    </tr>\n",
       "    <tr>\n",
       "      <th>mean</th>\n",
       "      <td>182023.000000</td>\n",
       "      <td>283.108239</td>\n",
       "      <td>1.474070e+12</td>\n",
       "      <td>0.0</td>\n",
       "      <td>190.897727</td>\n",
       "    </tr>\n",
       "    <tr>\n",
       "      <th>std</th>\n",
       "      <td>105091.461061</td>\n",
       "      <td>136.723470</td>\n",
       "      <td>4.293038e+10</td>\n",
       "      <td>0.0</td>\n",
       "      <td>59.502766</td>\n",
       "    </tr>\n",
       "    <tr>\n",
       "      <th>min</th>\n",
       "      <td>0.000000</td>\n",
       "      <td>0.000000</td>\n",
       "      <td>1.159356e+12</td>\n",
       "      <td>0.0</td>\n",
       "      <td>0.000000</td>\n",
       "    </tr>\n",
       "    <tr>\n",
       "      <th>25%</th>\n",
       "      <td>91011.500000</td>\n",
       "      <td>199.000000</td>\n",
       "      <td>1.444925e+12</td>\n",
       "      <td>0.0</td>\n",
       "      <td>159.000000</td>\n",
       "    </tr>\n",
       "    <tr>\n",
       "      <th>50%</th>\n",
       "      <td>182023.000000</td>\n",
       "      <td>301.000000</td>\n",
       "      <td>1.489422e+12</td>\n",
       "      <td>0.0</td>\n",
       "      <td>186.000000</td>\n",
       "    </tr>\n",
       "    <tr>\n",
       "      <th>75%</th>\n",
       "      <td>273034.500000</td>\n",
       "      <td>399.000000</td>\n",
       "      <td>1.509891e+12</td>\n",
       "      <td>0.0</td>\n",
       "      <td>218.000000</td>\n",
       "    </tr>\n",
       "    <tr>\n",
       "      <th>max</th>\n",
       "      <td>364046.000000</td>\n",
       "      <td>460.000000</td>\n",
       "      <td>1.520943e+12</td>\n",
       "      <td>0.0</td>\n",
       "      <td>6690.000000</td>\n",
       "    </tr>\n",
       "  </tbody>\n",
       "</table>\n",
       "</div>"
      ],
      "text/plain": [
       "          article_id    category_id  created_at_ts  publisher_id  \\\n",
       "count  364047.000000  364047.000000   3.640470e+05      364047.0   \n",
       "mean   182023.000000     283.108239   1.474070e+12           0.0   \n",
       "std    105091.461061     136.723470   4.293038e+10           0.0   \n",
       "min         0.000000       0.000000   1.159356e+12           0.0   \n",
       "25%     91011.500000     199.000000   1.444925e+12           0.0   \n",
       "50%    182023.000000     301.000000   1.489422e+12           0.0   \n",
       "75%    273034.500000     399.000000   1.509891e+12           0.0   \n",
       "max    364046.000000     460.000000   1.520943e+12           0.0   \n",
       "\n",
       "         words_count  \n",
       "count  364047.000000  \n",
       "mean      190.897727  \n",
       "std        59.502766  \n",
       "min         0.000000  \n",
       "25%       159.000000  \n",
       "50%       186.000000  \n",
       "75%       218.000000  \n",
       "max      6690.000000  "
      ]
     },
     "execution_count": 23,
     "metadata": {},
     "output_type": "execute_result"
    }
   ],
   "source": [
    "data.describe()"
   ]
  },
  {
   "cell_type": "code",
   "execution_count": 24,
   "id": "672a61a7-be10-4e63-90d6-eb23eb191bdd",
   "metadata": {},
   "outputs": [
    {
     "data": {
      "text/plain": [
       "<function matplotlib.pyplot.show(close=None, block=None)>"
      ]
     },
     "execution_count": 24,
     "metadata": {},
     "output_type": "execute_result"
    },
    {
     "data": {
      "image/png": "[encoded data removed]",
      "text/plain": [
       "<Figure size 640x480 with 1 Axes>"
      ]
     },
     "metadata": {},
     "output_type": "display_data"
    }
   ],
   "source": [
    "data['words_count'].hist(bins=100, range=(0,400))\n",
    "plt.xlabel(\"Nombre de mots\")\n",
    "plt.ylabel(\"Nombre d'articles\")\n",
    "plt.title(\"Distribution des mots par articles\")\n",
    "plt.show"
   ]
  },
  {
   "cell_type": "code",
   "execution_count": 25,
   "id": "e04316a8-e623-41dd-ad69-542d8e734a89",
   "metadata": {},
   "outputs": [
    {
     "data": {
      "text/plain": [
       "<function matplotlib.pyplot.show(close=None, block=None)>"
      ]
     },
     "execution_count": 25,
     "metadata": {},
     "output_type": "execute_result"
    },
    {
     "data": {
      "image/png": "[encoded data removed]",
      "text/plain": [
       "<Figure size 640x480 with 1 Axes>"
      ]
     },
     "metadata": {},
     "output_type": "display_data"
    }
   ],
   "source": [
    "data['category_id'].hist(bins=100)\n",
    "plt.xlabel(\"Catégories\")\n",
    "plt.ylabel(\"Nombre\")\n",
    "plt.title(\"Distribution des catégories\")\n",
    "plt.show"
   ]
  },
  {
   "cell_type": "markdown",
   "id": "4b01ca53-fe1e-4c40-b8a9-cb4997c0fe6f",
   "metadata": {},
   "source": [
    "#### Clicks"
   ]
  },
  {
   "cell_type": "markdown",
   "id": "1b403112-5de3-4d2c-a7ad-58d85a188f30",
   "metadata": {},
   "source": [
    "Ce tableau recence toutes les informations relatives au sessions des utilisatuers.\n",
    "4 variables nous intéressent et seront par la suite utilisées:\n",
    "\n",
    "-User_id: identifiant unique pour chaque utilisateur.\n",
    "\n",
    "-Session_id : l'identifiant unique de chaque session, s'il y a plusieurs clicks par session, cet identifiant peut apparaitre plusieurs fois.\n",
    "\n",
    "-Session_size : nombre de clicks par session.\n",
    "\n",
    "-Click_article_id : identifiant de l'article séléctionné (sur lequel l'utilisateur à cliqué)."
   ]
  },
  {
   "cell_type": "code",
   "execution_count": 26,
   "id": "2c56bd4b-883a-42a5-8755-ffcdef3c459f",
   "metadata": {},
   "outputs": [],
   "source": [
    "# Répertoire contenant les fichiers CSV de clics\n",
    "clicks_dir = \"/Users/Dhaker/Documents/Recommandation_App/projetdix/clicks\"\n",
    "\n",
    "# Chemin du fichier CSV combiné\n",
    "combined_csv_path = 'clicks.csv'\n",
    "\n",
    "if not os.path.exists(combined_csv_path):\n",
    "    # Liste pour stocker les chemins des fichiers CSV\n",
    "    clicks_path = [\n",
    "        os.path.join(clicks_dir, fname)\n",
    "        for fname in os.listdir(clicks_dir)\n",
    "        if fname.endswith(\".csv\")\n",
    "    ]\n",
    "    \n",
    "    print(\"Number of clicks csv:\", len(clicks_path))\n",
    "\n",
    "    # Lire et concaténer tous les fichiers CSV\n",
    "    clicks_list = [pd.read_csv(filepath) for filepath in sorted(clicks_path)]\n",
    "    clicks = pd.concat(clicks_list, ignore_index=True)\n",
    "\n",
    "    # Sauvegarder le DataFrame combiné en un seul fichier CSV\n",
    "    clicks.to_csv(combined_csv_path, index=False)\n",
    "else:\n",
    "    # Lire le fichier CSV combiné existant\n",
    "    clicks = pd.read_csv(combined_csv_path)\n"
   ]
  },
  {
   "cell_type": "code",
   "execution_count": 27,
   "id": "06467f49-ffd0-40b6-9e9e-bb250209f79b",
   "metadata": {},
   "outputs": [
    {
     "data": {
      "text/html": [
       "<div>\n",
       "<style scoped>\n",
       "    .dataframe tbody tr th:only-of-type {\n",
       "        vertical-align: middle;\n",
       "    }\n",
       "\n",
       "    .dataframe tbody tr th {\n",
       "        vertical-align: top;\n",
       "    }\n",
       "\n",
       "    .dataframe thead th {\n",
       "        text-align: right;\n",
       "    }\n",
       "</style>\n",
       "<table border=\"1\" class=\"dataframe\">\n",
       "  <thead>\n",
       "    <tr style=\"text-align: right;\">\n",
       "      <th></th>\n",
       "      <th>user_id</th>\n",
       "      <th>session_id</th>\n",
       "      <th>session_start</th>\n",
       "      <th>session_size</th>\n",
       "      <th>click_article_id</th>\n",
       "      <th>click_timestamp</th>\n",
       "      <th>click_environment</th>\n",
       "      <th>click_deviceGroup</th>\n",
       "      <th>click_os</th>\n",
       "      <th>click_country</th>\n",
       "      <th>click_region</th>\n",
       "      <th>click_referrer_type</th>\n",
       "    </tr>\n",
       "  </thead>\n",
       "  <tbody>\n",
       "    <tr>\n",
       "      <th>0</th>\n",
       "      <td>0</td>\n",
       "      <td>1506825423271737</td>\n",
       "      <td>1506825423000</td>\n",
       "      <td>2</td>\n",
       "      <td>157541</td>\n",
       "      <td>1506826828020</td>\n",
       "      <td>4</td>\n",
       "      <td>3</td>\n",
       "      <td>20</td>\n",
       "      <td>1</td>\n",
       "      <td>20</td>\n",
       "      <td>2</td>\n",
       "    </tr>\n",
       "    <tr>\n",
       "      <th>1</th>\n",
       "      <td>0</td>\n",
       "      <td>1506825423271737</td>\n",
       "      <td>1506825423000</td>\n",
       "      <td>2</td>\n",
       "      <td>68866</td>\n",
       "      <td>1506826858020</td>\n",
       "      <td>4</td>\n",
       "      <td>3</td>\n",
       "      <td>20</td>\n",
       "      <td>1</td>\n",
       "      <td>20</td>\n",
       "      <td>2</td>\n",
       "    </tr>\n",
       "    <tr>\n",
       "      <th>2</th>\n",
       "      <td>1</td>\n",
       "      <td>1506825426267738</td>\n",
       "      <td>1506825426000</td>\n",
       "      <td>2</td>\n",
       "      <td>235840</td>\n",
       "      <td>1506827017951</td>\n",
       "      <td>4</td>\n",
       "      <td>1</td>\n",
       "      <td>17</td>\n",
       "      <td>1</td>\n",
       "      <td>16</td>\n",
       "      <td>2</td>\n",
       "    </tr>\n",
       "    <tr>\n",
       "      <th>3</th>\n",
       "      <td>1</td>\n",
       "      <td>1506825426267738</td>\n",
       "      <td>1506825426000</td>\n",
       "      <td>2</td>\n",
       "      <td>96663</td>\n",
       "      <td>1506827047951</td>\n",
       "      <td>4</td>\n",
       "      <td>1</td>\n",
       "      <td>17</td>\n",
       "      <td>1</td>\n",
       "      <td>16</td>\n",
       "      <td>2</td>\n",
       "    </tr>\n",
       "    <tr>\n",
       "      <th>4</th>\n",
       "      <td>2</td>\n",
       "      <td>1506825435299739</td>\n",
       "      <td>1506825435000</td>\n",
       "      <td>2</td>\n",
       "      <td>119592</td>\n",
       "      <td>1506827090575</td>\n",
       "      <td>4</td>\n",
       "      <td>1</td>\n",
       "      <td>17</td>\n",
       "      <td>1</td>\n",
       "      <td>24</td>\n",
       "      <td>2</td>\n",
       "    </tr>\n",
       "  </tbody>\n",
       "</table>\n",
       "</div>"
      ],
      "text/plain": [
       "   user_id        session_id  session_start  session_size  click_article_id  \\\n",
       "0        0  1506825423271737  1506825423000             2            157541   \n",
       "1        0  1506825423271737  1506825423000             2             68866   \n",
       "2        1  1506825426267738  1506825426000             2            235840   \n",
       "3        1  1506825426267738  1506825426000             2             96663   \n",
       "4        2  1506825435299739  1506825435000             2            119592   \n",
       "\n",
       "   click_timestamp  click_environment  click_deviceGroup  click_os  \\\n",
       "0    1506826828020                  4                  3        20   \n",
       "1    1506826858020                  4                  3        20   \n",
       "2    1506827017951                  4                  1        17   \n",
       "3    1506827047951                  4                  1        17   \n",
       "4    1506827090575                  4                  1        17   \n",
       "\n",
       "   click_country  click_region  click_referrer_type  \n",
       "0              1            20                    2  \n",
       "1              1            20                    2  \n",
       "2              1            16                    2  \n",
       "3              1            16                    2  \n",
       "4              1            24                    2  "
      ]
     },
     "execution_count": 27,
     "metadata": {},
     "output_type": "execute_result"
    }
   ],
   "source": [
    "clicks.head()"
   ]
  },
  {
   "cell_type": "code",
   "execution_count": 28,
   "id": "c7f879af-b2cb-4680-88ff-9c55a047f11f",
   "metadata": {},
   "outputs": [
    {
     "data": {
      "text/plain": [
       "(2988181, 12)"
      ]
     },
     "execution_count": 28,
     "metadata": {},
     "output_type": "execute_result"
    }
   ],
   "source": [
    "clicks.shape"
   ]
  },
  {
   "cell_type": "code",
   "execution_count": 29,
   "id": "81d8c1da-af7b-4e28-aee4-9037bdd45df3",
   "metadata": {},
   "outputs": [
    {
     "data": {
      "text/html": [
       "<div>\n",
       "<style scoped>\n",
       "    .dataframe tbody tr th:only-of-type {\n",
       "        vertical-align: middle;\n",
       "    }\n",
       "\n",
       "    .dataframe tbody tr th {\n",
       "        vertical-align: top;\n",
       "    }\n",
       "\n",
       "    .dataframe thead th {\n",
       "        text-align: right;\n",
       "    }\n",
       "</style>\n",
       "<table border=\"1\" class=\"dataframe\">\n",
       "  <thead>\n",
       "    <tr style=\"text-align: right;\">\n",
       "      <th></th>\n",
       "      <th>user_id</th>\n",
       "      <th>session_id</th>\n",
       "      <th>session_start</th>\n",
       "      <th>session_size</th>\n",
       "      <th>click_article_id</th>\n",
       "      <th>click_timestamp</th>\n",
       "      <th>click_environment</th>\n",
       "      <th>click_deviceGroup</th>\n",
       "      <th>click_os</th>\n",
       "      <th>click_country</th>\n",
       "      <th>click_region</th>\n",
       "      <th>click_referrer_type</th>\n",
       "    </tr>\n",
       "  </thead>\n",
       "  <tbody>\n",
       "    <tr>\n",
       "      <th>count</th>\n",
       "      <td>2.988181e+06</td>\n",
       "      <td>2.988181e+06</td>\n",
       "      <td>2.988181e+06</td>\n",
       "      <td>2.988181e+06</td>\n",
       "      <td>2.988181e+06</td>\n",
       "      <td>2.988181e+06</td>\n",
       "      <td>2.988181e+06</td>\n",
       "      <td>2.988181e+06</td>\n",
       "      <td>2.988181e+06</td>\n",
       "      <td>2.988181e+06</td>\n",
       "      <td>2.988181e+06</td>\n",
       "      <td>2.988181e+06</td>\n",
       "    </tr>\n",
       "    <tr>\n",
       "      <th>mean</th>\n",
       "      <td>1.079478e+05</td>\n",
       "      <td>1.507472e+15</td>\n",
       "      <td>1.507472e+12</td>\n",
       "      <td>3.901885e+00</td>\n",
       "      <td>1.949226e+05</td>\n",
       "      <td>1.507474e+12</td>\n",
       "      <td>3.942652e+00</td>\n",
       "      <td>1.819306e+00</td>\n",
       "      <td>1.327760e+01</td>\n",
       "      <td>1.357656e+00</td>\n",
       "      <td>1.831331e+01</td>\n",
       "      <td>1.838981e+00</td>\n",
       "    </tr>\n",
       "    <tr>\n",
       "      <th>std</th>\n",
       "      <td>8.364836e+04</td>\n",
       "      <td>3.855245e+11</td>\n",
       "      <td>3.855245e+08</td>\n",
       "      <td>3.929941e+00</td>\n",
       "      <td>9.076842e+04</td>\n",
       "      <td>3.858510e+08</td>\n",
       "      <td>3.396804e-01</td>\n",
       "      <td>1.042214e+00</td>\n",
       "      <td>6.881718e+00</td>\n",
       "      <td>1.725861e+00</td>\n",
       "      <td>7.064006e+00</td>\n",
       "      <td>1.156356e+00</td>\n",
       "    </tr>\n",
       "    <tr>\n",
       "      <th>min</th>\n",
       "      <td>0.000000e+00</td>\n",
       "      <td>1.506825e+15</td>\n",
       "      <td>1.506825e+12</td>\n",
       "      <td>2.000000e+00</td>\n",
       "      <td>3.000000e+00</td>\n",
       "      <td>1.506827e+12</td>\n",
       "      <td>1.000000e+00</td>\n",
       "      <td>1.000000e+00</td>\n",
       "      <td>2.000000e+00</td>\n",
       "      <td>1.000000e+00</td>\n",
       "      <td>1.000000e+00</td>\n",
       "      <td>1.000000e+00</td>\n",
       "    </tr>\n",
       "    <tr>\n",
       "      <th>25%</th>\n",
       "      <td>4.034100e+04</td>\n",
       "      <td>1.507124e+15</td>\n",
       "      <td>1.507124e+12</td>\n",
       "      <td>2.000000e+00</td>\n",
       "      <td>1.242280e+05</td>\n",
       "      <td>1.507127e+12</td>\n",
       "      <td>4.000000e+00</td>\n",
       "      <td>1.000000e+00</td>\n",
       "      <td>2.000000e+00</td>\n",
       "      <td>1.000000e+00</td>\n",
       "      <td>1.300000e+01</td>\n",
       "      <td>1.000000e+00</td>\n",
       "    </tr>\n",
       "    <tr>\n",
       "      <th>50%</th>\n",
       "      <td>8.622900e+04</td>\n",
       "      <td>1.507493e+15</td>\n",
       "      <td>1.507493e+12</td>\n",
       "      <td>3.000000e+00</td>\n",
       "      <td>2.023810e+05</td>\n",
       "      <td>1.507495e+12</td>\n",
       "      <td>4.000000e+00</td>\n",
       "      <td>1.000000e+00</td>\n",
       "      <td>1.700000e+01</td>\n",
       "      <td>1.000000e+00</td>\n",
       "      <td>2.100000e+01</td>\n",
       "      <td>2.000000e+00</td>\n",
       "    </tr>\n",
       "    <tr>\n",
       "      <th>75%</th>\n",
       "      <td>1.632610e+05</td>\n",
       "      <td>1.507749e+15</td>\n",
       "      <td>1.507749e+12</td>\n",
       "      <td>4.000000e+00</td>\n",
       "      <td>2.770670e+05</td>\n",
       "      <td>1.507751e+12</td>\n",
       "      <td>4.000000e+00</td>\n",
       "      <td>3.000000e+00</td>\n",
       "      <td>1.700000e+01</td>\n",
       "      <td>1.000000e+00</td>\n",
       "      <td>2.500000e+01</td>\n",
       "      <td>2.000000e+00</td>\n",
       "    </tr>\n",
       "    <tr>\n",
       "      <th>max</th>\n",
       "      <td>3.228960e+05</td>\n",
       "      <td>1.508211e+15</td>\n",
       "      <td>1.508211e+12</td>\n",
       "      <td>1.240000e+02</td>\n",
       "      <td>3.640460e+05</td>\n",
       "      <td>1.510603e+12</td>\n",
       "      <td>4.000000e+00</td>\n",
       "      <td>5.000000e+00</td>\n",
       "      <td>2.000000e+01</td>\n",
       "      <td>1.100000e+01</td>\n",
       "      <td>2.800000e+01</td>\n",
       "      <td>7.000000e+00</td>\n",
       "    </tr>\n",
       "  </tbody>\n",
       "</table>\n",
       "</div>"
      ],
      "text/plain": [
       "            user_id    session_id  session_start  session_size  \\\n",
       "count  2.988181e+06  2.988181e+06   2.988181e+06  2.988181e+06   \n",
       "mean   1.079478e+05  1.507472e+15   1.507472e+12  3.901885e+00   \n",
       "std    8.364836e+04  3.855245e+11   3.855245e+08  3.929941e+00   \n",
       "min    0.000000e+00  1.506825e+15   1.506825e+12  2.000000e+00   \n",
       "25%    4.034100e+04  1.507124e+15   1.507124e+12  2.000000e+00   \n",
       "50%    8.622900e+04  1.507493e+15   1.507493e+12  3.000000e+00   \n",
       "75%    1.632610e+05  1.507749e+15   1.507749e+12  4.000000e+00   \n",
       "max    3.228960e+05  1.508211e+15   1.508211e+12  1.240000e+02   \n",
       "\n",
       "       click_article_id  click_timestamp  click_environment  \\\n",
       "count      2.988181e+06     2.988181e+06       2.988181e+06   \n",
       "mean       1.949226e+05     1.507474e+12       3.942652e+00   \n",
       "std        9.076842e+04     3.858510e+08       3.396804e-01   \n",
       "min        3.000000e+00     1.506827e+12       1.000000e+00   \n",
       "25%        1.242280e+05     1.507127e+12       4.000000e+00   \n",
       "50%        2.023810e+05     1.507495e+12       4.000000e+00   \n",
       "75%        2.770670e+05     1.507751e+12       4.000000e+00   \n",
       "max        3.640460e+05     1.510603e+12       4.000000e+00   \n",
       "\n",
       "       click_deviceGroup      click_os  click_country  click_region  \\\n",
       "count       2.988181e+06  2.988181e+06   2.988181e+06  2.988181e+06   \n",
       "mean        1.819306e+00  1.327760e+01   1.357656e+00  1.831331e+01   \n",
       "std         1.042214e+00  6.881718e+00   1.725861e+00  7.064006e+00   \n",
       "min         1.000000e+00  2.000000e+00   1.000000e+00  1.000000e+00   \n",
       "25%         1.000000e+00  2.000000e+00   1.000000e+00  1.300000e+01   \n",
       "50%         1.000000e+00  1.700000e+01   1.000000e+00  2.100000e+01   \n",
       "75%         3.000000e+00  1.700000e+01   1.000000e+00  2.500000e+01   \n",
       "max         5.000000e+00  2.000000e+01   1.100000e+01  2.800000e+01   \n",
       "\n",
       "       click_referrer_type  \n",
       "count         2.988181e+06  \n",
       "mean          1.838981e+00  \n",
       "std           1.156356e+00  \n",
       "min           1.000000e+00  \n",
       "25%           1.000000e+00  \n",
       "50%           2.000000e+00  \n",
       "75%           2.000000e+00  \n",
       "max           7.000000e+00  "
      ]
     },
     "execution_count": 29,
     "metadata": {},
     "output_type": "execute_result"
    }
   ],
   "source": [
    "clicks.describe()"
   ]
  },
  {
   "cell_type": "code",
   "execution_count": 30,
   "id": "9ff93e22-8da8-445f-88e6-d78187520a18",
   "metadata": {
    "scrolled": true
   },
   "outputs": [
    {
     "data": {
      "text/html": [
       "<div>\n",
       "<style scoped>\n",
       "    .dataframe tbody tr th:only-of-type {\n",
       "        vertical-align: middle;\n",
       "    }\n",
       "\n",
       "    .dataframe tbody tr th {\n",
       "        vertical-align: top;\n",
       "    }\n",
       "\n",
       "    .dataframe thead th {\n",
       "        text-align: right;\n",
       "    }\n",
       "</style>\n",
       "<table border=\"1\" class=\"dataframe\">\n",
       "  <thead>\n",
       "    <tr style=\"text-align: right;\">\n",
       "      <th></th>\n",
       "      <th>user_id</th>\n",
       "      <th>session_id</th>\n",
       "      <th>session_size</th>\n",
       "      <th>click_article_id</th>\n",
       "      <th>click_timestamp</th>\n",
       "    </tr>\n",
       "  </thead>\n",
       "  <tbody>\n",
       "    <tr>\n",
       "      <th>0</th>\n",
       "      <td>0</td>\n",
       "      <td>1506825423271737</td>\n",
       "      <td>2</td>\n",
       "      <td>157541</td>\n",
       "      <td>1506826828020</td>\n",
       "    </tr>\n",
       "    <tr>\n",
       "      <th>1</th>\n",
       "      <td>0</td>\n",
       "      <td>1506825423271737</td>\n",
       "      <td>2</td>\n",
       "      <td>68866</td>\n",
       "      <td>1506826858020</td>\n",
       "    </tr>\n",
       "    <tr>\n",
       "      <th>2</th>\n",
       "      <td>1</td>\n",
       "      <td>1506825426267738</td>\n",
       "      <td>2</td>\n",
       "      <td>235840</td>\n",
       "      <td>1506827017951</td>\n",
       "    </tr>\n",
       "    <tr>\n",
       "      <th>3</th>\n",
       "      <td>1</td>\n",
       "      <td>1506825426267738</td>\n",
       "      <td>2</td>\n",
       "      <td>96663</td>\n",
       "      <td>1506827047951</td>\n",
       "    </tr>\n",
       "    <tr>\n",
       "      <th>4</th>\n",
       "      <td>2</td>\n",
       "      <td>1506825435299739</td>\n",
       "      <td>2</td>\n",
       "      <td>119592</td>\n",
       "      <td>1506827090575</td>\n",
       "    </tr>\n",
       "  </tbody>\n",
       "</table>\n",
       "</div>"
      ],
      "text/plain": [
       "   user_id        session_id  session_size  click_article_id  click_timestamp\n",
       "0        0  1506825423271737             2            157541    1506826828020\n",
       "1        0  1506825423271737             2             68866    1506826858020\n",
       "2        1  1506825426267738             2            235840    1506827017951\n",
       "3        1  1506825426267738             2             96663    1506827047951\n",
       "4        2  1506825435299739             2            119592    1506827090575"
      ]
     },
     "execution_count": 30,
     "metadata": {},
     "output_type": "execute_result"
    }
   ],
   "source": [
    "clicks = clicks[[\"user_id\", \"session_id\", \"session_size\", \"click_article_id\", \"click_timestamp\"]]\n",
    "clicks.head()"
   ]
  },
  {
   "cell_type": "code",
   "execution_count": 31,
   "id": "8118ea33-0e6b-4591-98a4-4fcfe086533a",
   "metadata": {},
   "outputs": [
    {
     "data": {
      "text/plain": [
       "(2988181, 5)"
      ]
     },
     "execution_count": 31,
     "metadata": {},
     "output_type": "execute_result"
    }
   ],
   "source": [
    "clicks.shape"
   ]
  },
  {
   "cell_type": "code",
   "execution_count": 33,
   "id": "7c6fd10f-0f4b-4680-b08a-1c8906403eeb",
   "metadata": {},
   "outputs": [
    {
     "name": "stdout",
     "output_type": "stream",
     "text": [
      "Articles uniques cliqués: [     0      1      2 ... 322894 322895 322896]\n",
      "Nombre d'articles uniques cliqués: 322897\n"
     ]
    }
   ],
   "source": [
    "# Afficher les valeurs uniques dans la colonne 'click_article_id'\n",
    "unique_users = clicks[\"user_id\"].unique()\n",
    "print(\"Articles uniques cliqués:\", unique_users)\n",
    "print(\"Nombre d'articles uniques cliqués:\", len(unique_users))"
   ]
  },
  {
   "cell_type": "code",
   "execution_count": 34,
   "id": "067c3459-e2ff-4f09-a540-dca9d47f9bf0",
   "metadata": {
    "scrolled": true
   },
   "outputs": [
    {
     "data": {
      "text/plain": [
       "<function matplotlib.pyplot.show(close=None, block=None)>"
      ]
     },
     "execution_count": 34,
     "metadata": {},
     "output_type": "execute_result"
    },
    {
     "data": {
      "image/png": "[encoded data removed]",
      "text/plain": [
       "<Figure size 640x480 with 1 Axes>"
      ]
     },
     "metadata": {},
     "output_type": "display_data"
    }
   ],
   "source": [
    "clicks[\"session_size\"].hist(bins=24, range= (0, 10))\n",
    "plt.xlabel(\"Catégories\")\n",
    "plt.ylabel(\"session\")\n",
    "plt.title(\"Distribution des clicks \")\n",
    "plt.show"
   ]
  },
  {
   "cell_type": "code",
   "execution_count": 35,
   "id": "e81a8853-25bf-4c38-965e-d7be6c7a42ac",
   "metadata": {},
   "outputs": [],
   "source": [
    "# Spécifier le chemin où enregistrer le fichier pickle\n",
    "path_one = '/Users/Dhaker/Documents/Recommandation_App/azure_based_content/clicks.pkl'\n",
    "\n",
    "# Créer le répertoire si ce n'est pas déjà fait\n",
    "os.makedirs(os.path.dirname(path_one), exist_ok=True)\n",
    "\n",
    "# Enregistrer le DataFrame en utilisant to_pickle\n",
    "clicks.to_pickle(path_one)"
   ]
  },
  {
   "cell_type": "markdown",
   "id": "d6700655-2c4f-422e-9e75-7d08edf99830",
   "metadata": {},
   "source": [
    "#### articles_embeddings.pickle"
   ]
  },
  {
   "cell_type": "markdown",
   "id": "eede430b-4990-4b81-b84e-bcb2b1f921fe",
   "metadata": {},
   "source": []
  },
  {
   "cell_type": "code",
   "execution_count": 36,
   "id": "18b802ed-6901-4237-883f-8ae4fa01086b",
   "metadata": {},
   "outputs": [
    {
     "data": {
      "text/html": [
       "<div>\n",
       "<style scoped>\n",
       "    .dataframe tbody tr th:only-of-type {\n",
       "        vertical-align: middle;\n",
       "    }\n",
       "\n",
       "    .dataframe tbody tr th {\n",
       "        vertical-align: top;\n",
       "    }\n",
       "\n",
       "    .dataframe thead th {\n",
       "        text-align: right;\n",
       "    }\n",
       "</style>\n",
       "<table border=\"1\" class=\"dataframe\">\n",
       "  <thead>\n",
       "    <tr style=\"text-align: right;\">\n",
       "      <th></th>\n",
       "      <th>embedding_0</th>\n",
       "      <th>embedding_1</th>\n",
       "      <th>embedding_2</th>\n",
       "      <th>embedding_3</th>\n",
       "      <th>embedding_4</th>\n",
       "      <th>embedding_5</th>\n",
       "      <th>embedding_6</th>\n",
       "      <th>embedding_7</th>\n",
       "      <th>embedding_8</th>\n",
       "      <th>embedding_9</th>\n",
       "      <th>...</th>\n",
       "      <th>embedding_240</th>\n",
       "      <th>embedding_241</th>\n",
       "      <th>embedding_242</th>\n",
       "      <th>embedding_243</th>\n",
       "      <th>embedding_244</th>\n",
       "      <th>embedding_245</th>\n",
       "      <th>embedding_246</th>\n",
       "      <th>embedding_247</th>\n",
       "      <th>embedding_248</th>\n",
       "      <th>embedding_249</th>\n",
       "    </tr>\n",
       "  </thead>\n",
       "  <tbody>\n",
       "    <tr>\n",
       "      <th>0</th>\n",
       "      <td>-0.161183</td>\n",
       "      <td>-0.957233</td>\n",
       "      <td>-0.137944</td>\n",
       "      <td>0.050855</td>\n",
       "      <td>0.830055</td>\n",
       "      <td>0.901365</td>\n",
       "      <td>-0.335148</td>\n",
       "      <td>-0.559561</td>\n",
       "      <td>-0.500603</td>\n",
       "      <td>0.165183</td>\n",
       "      <td>...</td>\n",
       "      <td>0.321248</td>\n",
       "      <td>0.313999</td>\n",
       "      <td>0.636412</td>\n",
       "      <td>0.169179</td>\n",
       "      <td>0.540524</td>\n",
       "      <td>-0.813182</td>\n",
       "      <td>0.286870</td>\n",
       "      <td>-0.231686</td>\n",
       "      <td>0.597416</td>\n",
       "      <td>0.409623</td>\n",
       "    </tr>\n",
       "    <tr>\n",
       "      <th>1</th>\n",
       "      <td>-0.523216</td>\n",
       "      <td>-0.974058</td>\n",
       "      <td>0.738608</td>\n",
       "      <td>0.155234</td>\n",
       "      <td>0.626294</td>\n",
       "      <td>0.485297</td>\n",
       "      <td>-0.715657</td>\n",
       "      <td>-0.897996</td>\n",
       "      <td>-0.359747</td>\n",
       "      <td>0.398246</td>\n",
       "      <td>...</td>\n",
       "      <td>-0.487843</td>\n",
       "      <td>0.823124</td>\n",
       "      <td>0.412688</td>\n",
       "      <td>-0.338654</td>\n",
       "      <td>0.320787</td>\n",
       "      <td>0.588643</td>\n",
       "      <td>-0.594137</td>\n",
       "      <td>0.182828</td>\n",
       "      <td>0.397090</td>\n",
       "      <td>-0.834364</td>\n",
       "    </tr>\n",
       "    <tr>\n",
       "      <th>2</th>\n",
       "      <td>-0.619619</td>\n",
       "      <td>-0.972960</td>\n",
       "      <td>-0.207360</td>\n",
       "      <td>-0.128861</td>\n",
       "      <td>0.044748</td>\n",
       "      <td>-0.387535</td>\n",
       "      <td>-0.730477</td>\n",
       "      <td>-0.066126</td>\n",
       "      <td>-0.754899</td>\n",
       "      <td>-0.242004</td>\n",
       "      <td>...</td>\n",
       "      <td>0.454756</td>\n",
       "      <td>0.473184</td>\n",
       "      <td>0.377866</td>\n",
       "      <td>-0.863887</td>\n",
       "      <td>-0.383365</td>\n",
       "      <td>0.137721</td>\n",
       "      <td>-0.810877</td>\n",
       "      <td>-0.447580</td>\n",
       "      <td>0.805932</td>\n",
       "      <td>-0.285284</td>\n",
       "    </tr>\n",
       "    <tr>\n",
       "      <th>3</th>\n",
       "      <td>-0.740843</td>\n",
       "      <td>-0.975749</td>\n",
       "      <td>0.391698</td>\n",
       "      <td>0.641738</td>\n",
       "      <td>-0.268645</td>\n",
       "      <td>0.191745</td>\n",
       "      <td>-0.825593</td>\n",
       "      <td>-0.710591</td>\n",
       "      <td>-0.040099</td>\n",
       "      <td>-0.110514</td>\n",
       "      <td>...</td>\n",
       "      <td>0.271535</td>\n",
       "      <td>0.036040</td>\n",
       "      <td>0.480029</td>\n",
       "      <td>-0.763173</td>\n",
       "      <td>0.022627</td>\n",
       "      <td>0.565165</td>\n",
       "      <td>-0.910286</td>\n",
       "      <td>-0.537838</td>\n",
       "      <td>0.243541</td>\n",
       "      <td>-0.885329</td>\n",
       "    </tr>\n",
       "    <tr>\n",
       "      <th>4</th>\n",
       "      <td>-0.279052</td>\n",
       "      <td>-0.972315</td>\n",
       "      <td>0.685374</td>\n",
       "      <td>0.113056</td>\n",
       "      <td>0.238315</td>\n",
       "      <td>0.271913</td>\n",
       "      <td>-0.568816</td>\n",
       "      <td>0.341194</td>\n",
       "      <td>-0.600554</td>\n",
       "      <td>-0.125644</td>\n",
       "      <td>...</td>\n",
       "      <td>0.238286</td>\n",
       "      <td>0.809268</td>\n",
       "      <td>0.427521</td>\n",
       "      <td>-0.615932</td>\n",
       "      <td>-0.503697</td>\n",
       "      <td>0.614450</td>\n",
       "      <td>-0.917760</td>\n",
       "      <td>-0.424061</td>\n",
       "      <td>0.185484</td>\n",
       "      <td>-0.580292</td>\n",
       "    </tr>\n",
       "  </tbody>\n",
       "</table>\n",
       "<p>5 rows × 250 columns</p>\n",
       "</div>"
      ],
      "text/plain": [
       "   embedding_0  embedding_1  embedding_2  embedding_3  embedding_4  \\\n",
       "0    -0.161183    -0.957233    -0.137944     0.050855     0.830055   \n",
       "1    -0.523216    -0.974058     0.738608     0.155234     0.626294   \n",
       "2    -0.619619    -0.972960    -0.207360    -0.128861     0.044748   \n",
       "3    -0.740843    -0.975749     0.391698     0.641738    -0.268645   \n",
       "4    -0.279052    -0.972315     0.685374     0.113056     0.238315   \n",
       "\n",
       "   embedding_5  embedding_6  embedding_7  embedding_8  embedding_9  ...  \\\n",
       "0     0.901365    -0.335148    -0.559561    -0.500603     0.165183  ...   \n",
       "1     0.485297    -0.715657    -0.897996    -0.359747     0.398246  ...   \n",
       "2    -0.387535    -0.730477    -0.066126    -0.754899    -0.242004  ...   \n",
       "3     0.191745    -0.825593    -0.710591    -0.040099    -0.110514  ...   \n",
       "4     0.271913    -0.568816     0.341194    -0.600554    -0.125644  ...   \n",
       "\n",
       "   embedding_240  embedding_241  embedding_242  embedding_243  embedding_244  \\\n",
       "0       0.321248       0.313999       0.636412       0.169179       0.540524   \n",
       "1      -0.487843       0.823124       0.412688      -0.338654       0.320787   \n",
       "2       0.454756       0.473184       0.377866      -0.863887      -0.383365   \n",
       "3       0.271535       0.036040       0.480029      -0.763173       0.022627   \n",
       "4       0.238286       0.809268       0.427521      -0.615932      -0.503697   \n",
       "\n",
       "   embedding_245  embedding_246  embedding_247  embedding_248  embedding_249  \n",
       "0      -0.813182       0.286870      -0.231686       0.597416       0.409623  \n",
       "1       0.588643      -0.594137       0.182828       0.397090      -0.834364  \n",
       "2       0.137721      -0.810877      -0.447580       0.805932      -0.285284  \n",
       "3       0.565165      -0.910286      -0.537838       0.243541      -0.885329  \n",
       "4       0.614450      -0.917760      -0.424061       0.185484      -0.580292  \n",
       "\n",
       "[5 rows x 250 columns]"
      ]
     },
     "execution_count": 36,
     "metadata": {},
     "output_type": "execute_result"
    }
   ],
   "source": [
    "# Lire le fichier pickle pour obtenir le NumPy array\n",
    "embeddings = pd.read_pickle(data_path+ \"articles_embeddings.pickle\")\n",
    "\n",
    "# Convertir le NumPy array en DataFrame pandas avec des colonnes nommées\n",
    "embeddings = pd.DataFrame(embeddings, columns=[\"embedding_\" + str(i) for i in range(embeddings.shape[1])])\n",
    "\n",
    "# Afficher les premières lignes du DataFrame\n",
    "embeddings.head()"
   ]
  },
  {
   "cell_type": "code",
   "execution_count": 37,
   "id": "61447b6e-cf5b-4c6e-b496-e4007f8c9419",
   "metadata": {},
   "outputs": [
    {
     "data": {
      "text/plain": [
       "(364047, 250)"
      ]
     },
     "execution_count": 37,
     "metadata": {},
     "output_type": "execute_result"
    }
   ],
   "source": [
    "embeddings.shape"
   ]
  },
  {
   "cell_type": "markdown",
   "id": "77e7ecfd-53c4-44c0-a33f-fd8962abea98",
   "metadata": {},
   "source": [
    "### Prétraitement des données"
   ]
  },
  {
   "cell_type": "markdown",
   "id": "a2fa35d8-92c9-4d78-8742-c973ebe5590c",
   "metadata": {},
   "source": [
    "#### ACP de \"articles_embeddings.pickle\""
   ]
  },
  {
   "cell_type": "markdown",
   "id": "b980fd1a-f8ca-4aab-bea9-fa2f00234c39",
   "metadata": {},
   "source": [
    "Pour les besoins du projet et afin d'alléger notre algoithme pour une éventuelle mise en production, je réalise une PCA sur la base de données \"articles_embeddings.pickle\".\n",
    "Sachant que cette base de données a été fournie pour pouvoir réaliser la \"cosine similarity\" sans avoir à prétraiter les données. Cette base est néanmoins très volumineuse, c'est la raison pourlaquelle je réalise une réduction de dimensionnalité. Pour cette PCA, je garde les 50 premières composantes."
   ]
  },
  {
   "cell_type": "code",
   "execution_count": 38,
   "id": "9f0a9215-afd2-4c89-a52a-b60beb40bdb3",
   "metadata": {},
   "outputs": [],
   "source": [
    "acp = PCA(n_components=80)\n",
    "acp.fit(embeddings)\n",
    "embeddings_acp = acp.transform(embeddings)"
   ]
  },
  {
   "cell_type": "code",
   "execution_count": 39,
   "id": "a2b8120c-a40a-4917-bf9d-8ad9be392b0e",
   "metadata": {},
   "outputs": [
    {
     "data": {
      "text/html": [
       "<div>\n",
       "<style scoped>\n",
       "    .dataframe tbody tr th:only-of-type {\n",
       "        vertical-align: middle;\n",
       "    }\n",
       "\n",
       "    .dataframe tbody tr th {\n",
       "        vertical-align: top;\n",
       "    }\n",
       "\n",
       "    .dataframe thead th {\n",
       "        text-align: right;\n",
       "    }\n",
       "</style>\n",
       "<table border=\"1\" class=\"dataframe\">\n",
       "  <thead>\n",
       "    <tr style=\"text-align: right;\">\n",
       "      <th></th>\n",
       "      <th>embedding_0</th>\n",
       "      <th>embedding_1</th>\n",
       "      <th>embedding_2</th>\n",
       "      <th>embedding_3</th>\n",
       "      <th>embedding_4</th>\n",
       "      <th>embedding_5</th>\n",
       "      <th>embedding_6</th>\n",
       "      <th>embedding_7</th>\n",
       "      <th>embedding_8</th>\n",
       "      <th>embedding_9</th>\n",
       "      <th>...</th>\n",
       "      <th>embedding_70</th>\n",
       "      <th>embedding_71</th>\n",
       "      <th>embedding_72</th>\n",
       "      <th>embedding_73</th>\n",
       "      <th>embedding_74</th>\n",
       "      <th>embedding_75</th>\n",
       "      <th>embedding_76</th>\n",
       "      <th>embedding_77</th>\n",
       "      <th>embedding_78</th>\n",
       "      <th>embedding_79</th>\n",
       "    </tr>\n",
       "  </thead>\n",
       "  <tbody>\n",
       "    <tr>\n",
       "      <th>0</th>\n",
       "      <td>-2.176784</td>\n",
       "      <td>-1.316913</td>\n",
       "      <td>-1.029040</td>\n",
       "      <td>0.901909</td>\n",
       "      <td>-1.809547</td>\n",
       "      <td>2.064694</td>\n",
       "      <td>1.221926</td>\n",
       "      <td>0.024424</td>\n",
       "      <td>0.927228</td>\n",
       "      <td>0.669887</td>\n",
       "      <td>...</td>\n",
       "      <td>-0.288800</td>\n",
       "      <td>0.166541</td>\n",
       "      <td>0.093086</td>\n",
       "      <td>0.156313</td>\n",
       "      <td>0.051198</td>\n",
       "      <td>-0.007358</td>\n",
       "      <td>0.187129</td>\n",
       "      <td>-0.015133</td>\n",
       "      <td>-0.171407</td>\n",
       "      <td>0.249648</td>\n",
       "    </tr>\n",
       "    <tr>\n",
       "      <th>1</th>\n",
       "      <td>-1.735176</td>\n",
       "      <td>0.489917</td>\n",
       "      <td>3.268558</td>\n",
       "      <td>0.087841</td>\n",
       "      <td>1.473059</td>\n",
       "      <td>0.932730</td>\n",
       "      <td>-1.841611</td>\n",
       "      <td>0.881814</td>\n",
       "      <td>-0.207169</td>\n",
       "      <td>-0.816804</td>\n",
       "      <td>...</td>\n",
       "      <td>-0.042124</td>\n",
       "      <td>-0.093622</td>\n",
       "      <td>0.042270</td>\n",
       "      <td>0.170787</td>\n",
       "      <td>0.217932</td>\n",
       "      <td>-0.054633</td>\n",
       "      <td>-0.319009</td>\n",
       "      <td>-0.060909</td>\n",
       "      <td>-0.231471</td>\n",
       "      <td>-0.030410</td>\n",
       "    </tr>\n",
       "    <tr>\n",
       "      <th>2</th>\n",
       "      <td>-0.912696</td>\n",
       "      <td>-2.089325</td>\n",
       "      <td>1.865878</td>\n",
       "      <td>-1.202530</td>\n",
       "      <td>2.530590</td>\n",
       "      <td>0.521975</td>\n",
       "      <td>-0.224346</td>\n",
       "      <td>-1.479935</td>\n",
       "      <td>-0.191883</td>\n",
       "      <td>-1.356806</td>\n",
       "      <td>...</td>\n",
       "      <td>-0.046224</td>\n",
       "      <td>-0.235762</td>\n",
       "      <td>0.183538</td>\n",
       "      <td>0.230962</td>\n",
       "      <td>-0.030966</td>\n",
       "      <td>-0.118383</td>\n",
       "      <td>-0.098653</td>\n",
       "      <td>0.133158</td>\n",
       "      <td>0.223814</td>\n",
       "      <td>0.224828</td>\n",
       "    </tr>\n",
       "    <tr>\n",
       "      <th>3</th>\n",
       "      <td>1.096565</td>\n",
       "      <td>0.212976</td>\n",
       "      <td>4.183513</td>\n",
       "      <td>-0.649580</td>\n",
       "      <td>-0.130867</td>\n",
       "      <td>-1.126548</td>\n",
       "      <td>-1.063993</td>\n",
       "      <td>0.662885</td>\n",
       "      <td>0.348172</td>\n",
       "      <td>-1.463874</td>\n",
       "      <td>...</td>\n",
       "      <td>0.015628</td>\n",
       "      <td>-0.322109</td>\n",
       "      <td>0.054143</td>\n",
       "      <td>-0.100924</td>\n",
       "      <td>-0.029718</td>\n",
       "      <td>-0.103876</td>\n",
       "      <td>0.040779</td>\n",
       "      <td>0.056500</td>\n",
       "      <td>0.053858</td>\n",
       "      <td>-0.067688</td>\n",
       "    </tr>\n",
       "    <tr>\n",
       "      <th>4</th>\n",
       "      <td>0.193782</td>\n",
       "      <td>-0.263939</td>\n",
       "      <td>1.896580</td>\n",
       "      <td>-1.834358</td>\n",
       "      <td>1.270367</td>\n",
       "      <td>1.723294</td>\n",
       "      <td>-0.328994</td>\n",
       "      <td>-0.283787</td>\n",
       "      <td>-0.659785</td>\n",
       "      <td>-1.223764</td>\n",
       "      <td>...</td>\n",
       "      <td>0.036389</td>\n",
       "      <td>0.054548</td>\n",
       "      <td>0.036049</td>\n",
       "      <td>0.119746</td>\n",
       "      <td>-0.042471</td>\n",
       "      <td>-0.170696</td>\n",
       "      <td>-0.350483</td>\n",
       "      <td>-0.011449</td>\n",
       "      <td>0.188043</td>\n",
       "      <td>-0.140524</td>\n",
       "    </tr>\n",
       "  </tbody>\n",
       "</table>\n",
       "<p>5 rows × 80 columns</p>\n",
       "</div>"
      ],
      "text/plain": [
       "   embedding_0  embedding_1  embedding_2  embedding_3  embedding_4  \\\n",
       "0    -2.176784    -1.316913    -1.029040     0.901909    -1.809547   \n",
       "1    -1.735176     0.489917     3.268558     0.087841     1.473059   \n",
       "2    -0.912696    -2.089325     1.865878    -1.202530     2.530590   \n",
       "3     1.096565     0.212976     4.183513    -0.649580    -0.130867   \n",
       "4     0.193782    -0.263939     1.896580    -1.834358     1.270367   \n",
       "\n",
       "   embedding_5  embedding_6  embedding_7  embedding_8  embedding_9  ...  \\\n",
       "0     2.064694     1.221926     0.024424     0.927228     0.669887  ...   \n",
       "1     0.932730    -1.841611     0.881814    -0.207169    -0.816804  ...   \n",
       "2     0.521975    -0.224346    -1.479935    -0.191883    -1.356806  ...   \n",
       "3    -1.126548    -1.063993     0.662885     0.348172    -1.463874  ...   \n",
       "4     1.723294    -0.328994    -0.283787    -0.659785    -1.223764  ...   \n",
       "\n",
       "   embedding_70  embedding_71  embedding_72  embedding_73  embedding_74  \\\n",
       "0     -0.288800      0.166541      0.093086      0.156313      0.051198   \n",
       "1     -0.042124     -0.093622      0.042270      0.170787      0.217932   \n",
       "2     -0.046224     -0.235762      0.183538      0.230962     -0.030966   \n",
       "3      0.015628     -0.322109      0.054143     -0.100924     -0.029718   \n",
       "4      0.036389      0.054548      0.036049      0.119746     -0.042471   \n",
       "\n",
       "   embedding_75  embedding_76  embedding_77  embedding_78  embedding_79  \n",
       "0     -0.007358      0.187129     -0.015133     -0.171407      0.249648  \n",
       "1     -0.054633     -0.319009     -0.060909     -0.231471     -0.030410  \n",
       "2     -0.118383     -0.098653      0.133158      0.223814      0.224828  \n",
       "3     -0.103876      0.040779      0.056500      0.053858     -0.067688  \n",
       "4     -0.170696     -0.350483     -0.011449      0.188043     -0.140524  \n",
       "\n",
       "[5 rows x 80 columns]"
      ]
     },
     "execution_count": 39,
     "metadata": {},
     "output_type": "execute_result"
    }
   ],
   "source": [
    "# Convertir le NumPy array en DataFrame pandas avec des colonnes nommées\n",
    "embeddings_acp = pd.DataFrame(embeddings_acp, columns=[\"embedding_\" + str(i) for i in range(embeddings_acp.shape[1])])\n",
    "\n",
    "\n",
    "embeddings_acp.head()"
   ]
  },
  {
   "cell_type": "code",
   "execution_count": 40,
   "id": "c0e302b6-bc20-4727-b48f-085daccb6137",
   "metadata": {},
   "outputs": [
    {
     "data": {
      "text/plain": [
       "0.9821171728113592"
      ]
     },
     "execution_count": 40,
     "metadata": {},
     "output_type": "execute_result"
    }
   ],
   "source": [
    "sum(acp.explained_variance_ratio_)"
   ]
  },
  {
   "cell_type": "code",
   "execution_count": 41,
   "id": "9a534a9f-f6d7-4559-a089-061ecbd66ab7",
   "metadata": {},
   "outputs": [],
   "source": [
    "# Spécifier le chemin où enregistrer le fichier pickle\n",
    "path_two = '/Users/Dhaker/Documents/Recommandation_App/azure_based_content/embeddings_acp.pkl'\n",
    "\n",
    "# Créer le répertoire si ce n'est pas déjà fait\n",
    "os.makedirs(os.path.dirname(path_two), exist_ok=True)\n",
    "\n",
    "# Enregistrer le DataFrame en utilisant to_pickle\n",
    "embeddings_acp.to_pickle(path_two)"
   ]
  },
  {
   "cell_type": "markdown",
   "id": "85b49557-a35f-45b1-9fdb-cdfa862542f3",
   "metadata": {},
   "source": [
    "### Content Based Recommender"
   ]
  },
  {
   "cell_type": "markdown",
   "id": "40ad532f-9623-4053-ad5d-27e95d0ec538",
   "metadata": {},
   "source": [
    "La technique de Content Based Recommender ou recommandation basée sur le contenu en français est une technique qui consiste à suggérer du contenu à un utilisateur, tel qu'il soit, sur la base des préferences de ce même utilisateur.\n",
    "\n",
    "Pour notre présent projet, cela revient à proposer à un utilisateur, des articles qui ressemblent aux articles déja lus par ce même utilisateur. \n",
    "\n",
    "Pour ce faire, le système analyse les caractéristiques de ces articles et les préferences de notre utilisateur pour proposer de nouveaux articles similaires.\n",
    "\n",
    "Dans cette partie du projet, nous avons fait le choix de réaliser notre application de recommandation de contenu en utilisant la cosine similarity ou la similarité cosinus en français.\n",
    "\n",
    "La cosine similarity mesure l'angle entre deux vecteurs dans un espace multidimensionnel. Elle est définie comme le produit scalaire des deux vecteurs divisé par le produit de leurs normes.\n",
    "\n",
    "Concrétement, cela revient à comparer les vecteurs de caractéristiques des articles lus par un utilisateurs avec ceux de tous les autres articles. \n",
    "\n",
    "Si la valeur de la cosine similarity est proche de 1, cela indique une forte similarité. En revanche, une valeur proche de 0 indique une similarité faible.\n",
    "\n",
    "Ainsi, le systéme recommendera les articles qui présentent le plus de similarité avec les articles lus par l'utilisateur.\n",
    "\n",
    "Se pose alors une question, c'est celle du choix de ou des articles (déja lus par un utilisateur donné) qui serviront aux calculs des cosine similarity.\n",
    "\n",
    "Car en effet, un utilisateur peut lire un article, dans quel cas, le problème ne se pose plus puisqu'il suffit de calculer la similarité de cet article avec tous les autres articles disponibles.\n",
    "\n",
    "Mais que se passe t'il si notre utilisateur a lu plusieurs article?\n",
    "\n",
    "En réalité, trois principales solutions existent: \n",
    "\n",
    "- Soit, le dernier article lu est pris en compte.\n",
    "- Soit, un article pris au hasard( parmis ceux lus par l'utilsateur).\n",
    "- Soit, une moyenne des embeddings des articles lus est prise en compte.\n",
    "\n",
    "Dans notre projet, nous avons expérimenté les 3 solutions. Evidement, il est aisé de comprendre que selon la méthode choisie, les articles recommandés ne sont pas les mêmes.\n",
    "\n",
    "De même, et dans un soucis d'allégement de notre modèle de recommandation, nous avons réalisé une analyse en composante principale sur notre matrice des embeddings ( fournie et dont la réalisation a fait appel à la technique de \"Words embedding, Tf-Idf).\n",
    "\n",
    "Nous avons fait le choix de garder les 80 premières composantes, celles-ci captent 98% de l'inertie totale.\n",
    "\n",
    "Nous avons constaté que les résultats sont différents selon que l'on utilise la matrice des embeddings avec ACP ou pas.\n",
    "\n",
    "Revenons maintenant à nos 3 stratégies de choix des articles. Dans les cellule qui suit, nous avons creé un tableau qui récapitule les principales forces et faiblesses de chacunes d'entre elles.\n"
   ]
  },
  {
   "cell_type": "code",
   "execution_count": 8,
   "id": "12df3afa-f07c-4882-a10b-2b757952591f",
   "metadata": {},
   "outputs": [
    {
     "data": {
      "text/html": [
       "<div>\n",
       "<style scoped>\n",
       "    .dataframe tbody tr th:only-of-type {\n",
       "        vertical-align: middle;\n",
       "    }\n",
       "\n",
       "    .dataframe tbody tr th {\n",
       "        vertical-align: top;\n",
       "    }\n",
       "\n",
       "    .dataframe thead th {\n",
       "        text-align: right;\n",
       "    }\n",
       "</style>\n",
       "<table border=\"1\" class=\"dataframe\">\n",
       "  <thead>\n",
       "    <tr style=\"text-align: right;\">\n",
       "      <th></th>\n",
       "      <th>Stratégie</th>\n",
       "      <th>Qualités</th>\n",
       "      <th>Faiblesses</th>\n",
       "    </tr>\n",
       "  </thead>\n",
       "  <tbody>\n",
       "    <tr>\n",
       "      <th>0</th>\n",
       "      <td>Dernier Article Cliqué</td>\n",
       "      <td>- Pertinence récentes\\ Simplicité\\ Recommandations opportunes</td>\n",
       "      <td>- Contexte limité\\ Sensibilité au bruit\\ Perspectives historiques limitées</td>\n",
       "    </tr>\n",
       "    <tr>\n",
       "      <th>1</th>\n",
       "      <td>Article Cliqué au Hasard</td>\n",
       "      <td>- Perspectives diverses\\ Réduction de l'impact du bruit\\ Flexibilité</td>\n",
       "      <td>- Incohérence\\ Prévisibilité réduite\\ Surcharge de calcul</td>\n",
       "    </tr>\n",
       "    <tr>\n",
       "      <th>2</th>\n",
       "      <td>Moyenne des Embeddings</td>\n",
       "      <td>- Vue globale\\ Stabilité\\ Robustesse</td>\n",
       "      <td>- Dilution des intérêts spécifiques\\ Complexité de calcul\\ Adaptation lente aux nouveaux intérêts</td>\n",
       "    </tr>\n",
       "  </tbody>\n",
       "</table>\n",
       "</div>"
      ],
      "text/plain": [
       "                  Stratégie  \\\n",
       "0    Dernier Article Cliqué   \n",
       "1  Article Cliqué au Hasard   \n",
       "2    Moyenne des Embeddings   \n",
       "\n",
       "                                                               Qualités  \\\n",
       "0         - Pertinence récentes\\ Simplicité\\ Recommandations opportunes   \n",
       "1  - Perspectives diverses\\ Réduction de l'impact du bruit\\ Flexibilité   \n",
       "2                                  - Vue globale\\ Stabilité\\ Robustesse   \n",
       "\n",
       "                                                                                          Faiblesses  \n",
       "0                         - Contexte limité\\ Sensibilité au bruit\\ Perspectives historiques limitées  \n",
       "1                                          - Incohérence\\ Prévisibilité réduite\\ Surcharge de calcul  \n",
       "2  - Dilution des intérêts spécifiques\\ Complexité de calcul\\ Adaptation lente aux nouveaux intérêts  "
      ]
     },
     "execution_count": 8,
     "metadata": {},
     "output_type": "execute_result"
    }
   ],
   "source": [
    "import pandas as pd\n",
    "\n",
    "# Création du tableau comparatif des stratégies de recommandation\n",
    "data = {\n",
    "    \"Stratégie\": [\"Dernier Article Cliqué\", \"Article Cliqué au Hasard\", \"Moyenne des Embeddings\"],\n",
    "    \"Qualités\": [\n",
    "        \"- Pertinence récentes\\ Simplicité\\ Recommandations opportunes\",\n",
    "        \"- Perspectives diverses\\ Réduction de l'impact du bruit\\ Flexibilité\",\n",
    "        \"- Vue globale\\ Stabilité\\ Robustesse\"\n",
    "    ],\n",
    "    \"Faiblesses\": [\n",
    "        \"- Contexte limité\\ Sensibilité au bruit\\ Perspectives historiques limitées\",\n",
    "        \"- Incohérence\\ Prévisibilité réduite\\ Surcharge de calcul\",\n",
    "        \"- Dilution des intérêts spécifiques\\ Complexité de calcul\\ Adaptation lente aux nouveaux intérêts\"\n",
    "    ]\n",
    "}\n",
    "\n",
    "# Conversion du dictionnaire en DataFrame\n",
    "df_comparatif = pd.DataFrame(data)\n",
    "\n",
    "# Ajuster les paramètres d'affichage de pandas\n",
    "pd.set_option('display.max_colwidth', None)\n",
    "\n",
    "df_comparatif"
   ]
  },
  {
   "cell_type": "code",
   "execution_count": 10,
   "id": "f4e29308-5187-429f-b7b7-8534d491742e",
   "metadata": {},
   "outputs": [],
   "source": [
    "# Stratégie 1 : Dernier article cliqué\n",
    "\n",
    "def recommend_last_clicked(articles_read_embedding, articles_remaining, n=5):\n",
    "    if articles_read_embedding.shape[0] == 0:\n",
    "        return []\n",
    "    \n",
    "    # Calculer la similarité cosinus entre l'embedding du dernier article lu et les autres articles\n",
    "    matrix = cosine_similarity(articles_read_embedding.iloc[-1].values.reshape(1, -1), articles_remaining.values)\n",
    "    rec = []\n",
    "\n",
    "    for i in range(n):\n",
    "        coord_y = np.argmax(matrix) % matrix.shape[1]\n",
    "        rec.append(int(articles_remaining.index[coord_y]))\n",
    "        matrix[0][coord_y] = -np.inf  # Remplacer la valeur maximale par -inf pour éviter de la sélectionner à nouveau\n",
    "\n",
    "    return rec\n",
    "\n",
    "# Stratégie 2 : Article cliqué au hasard\n",
    "\n",
    "def recommend_random_clicked(articles_read_embedding, articles_remaining, n=5):\n",
    "    if articles_read_embedding.shape[0] == 0:\n",
    "        return []\n",
    "    \n",
    "    random_index = np.random.randint(len(articles_read_embedding))\n",
    "    matrix = cosine_similarity(articles_read_embedding.iloc[random_index].values.reshape(1, -1), articles_remaining.values)\n",
    "    rec = []\n",
    "\n",
    "    for i in range(n):\n",
    "        coord_y = np.argmax(matrix) % matrix.shape[1]\n",
    "        rec.append(int(articles_remaining.index[coord_y]))\n",
    "        matrix[0][coord_y] = -np.inf  # Remplacer la valeur maximale par -inf pour éviter de la sélectionner à nouveau\n",
    "\n",
    "    return rec\n",
    "\n",
    "# Stratégie 3 : Moyenne des embeddings\n",
    "\n",
    "def recommend_mean_embeddings(articles_read_embedding, articles_remaining, n=5):\n",
    "    if articles_read_embedding.shape[0] == 0:\n",
    "        return []\n",
    "    \n",
    "    mean_embedding = articles_read_embedding.mean(axis=0).values.reshape(1, -1)\n",
    "    matrix = cosine_similarity(mean_embedding, articles_remaining.values)\n",
    "    rec = []\n",
    "\n",
    "    for i in range(n):\n",
    "        coord_y = np.argmax(matrix) % matrix.shape[1]\n",
    "        rec.append(int(articles_remaining.index[coord_y]))\n",
    "        matrix[0][coord_y] = -np.inf  # Remplacer la valeur maximale par -inf pour éviter de la sélectionner à nouveau\n",
    "\n",
    "    return rec\n",
    "\n",
    "# Fonction principale\n",
    "\n",
    "def contentBasedRecommendArticle(articles, clicks, user_id, strategy, n=5):\n",
    "    # Articles lus par l'utilisateur, triés par timestamp\n",
    "    user_clicks = clicks[clicks['user_id'] == user_id].sort_values(by='click_timestamp')\n",
    "    articles_read = user_clicks['click_article_id'].tolist()\n",
    "\n",
    "    if len(articles_read) == 0:\n",
    "        return \"L'utilisateur n'a lu aucun article\"\n",
    "\n",
    "    # Filtrer les articles lus pour ne garder que ceux présents dans le DataFrame articles\n",
    "    articles_read = [article for article in articles_read if article in articles.index]\n",
    "\n",
    "    if len(articles_read) == 0:\n",
    "        return \"Aucun des articles lus par l'utilisateur ne se trouve dans le DataFrame des embeddings\"\n",
    "\n",
    "    # Embeddings des articles lus par l'utilisateur\n",
    "    articles_read_embedding = articles.loc[articles_read]\n",
    "\n",
    "    # Supprimer les articles lus du DataFrame articles\n",
    "    articles_remaining = articles.drop(articles_read)\n",
    "\n",
    "    # Appliquer la stratégie choisie\n",
    "    if strategy == 'last_clicked':\n",
    "        return recommend_last_clicked(articles_read_embedding, articles_remaining, n)\n",
    "    elif strategy == 'random_clicked':\n",
    "        return recommend_random_clicked(articles_read_embedding, articles_remaining, n)\n",
    "    elif strategy == 'mean_embeddings':\n",
    "        return recommend_mean_embeddings(articles_read_embedding, articles_remaining, n)\n",
    "    else:\n",
    "        return \"Stratégie non reconnue. Choisissez parmi 'last_clicked', 'random_clicked' ou 'mean_embeddings'.\""
   ]
  },
  {
   "cell_type": "markdown",
   "id": "94139b5a-94d3-449e-a9a1-6f0d4eab91e6",
   "metadata": {},
   "source": [
    "#### Inférences"
   ]
  },
  {
   "cell_type": "markdown",
   "id": "9d6a17c7-04cd-4d41-bba9-05c30ea7f133",
   "metadata": {},
   "source": [
    "#### Exemple avec la matrice d'embeddings sans ACP"
   ]
  },
  {
   "cell_type": "code",
   "execution_count": 178,
   "id": "31bb5697-5e13-4370-a046-dccb080f4270",
   "metadata": {},
   "outputs": [
    {
     "name": "stdout",
     "output_type": "stream",
     "text": [
      "Recommandations pour l'utilisateur 5 (stratégie: mean_embeddings): [285728, 285233, 280901, 345218, 286255]\n"
     ]
    }
   ],
   "source": [
    "user_id = 5  # Exemple de user_id\n",
    "strategy = 'mean_embeddings'  # Exemple de stratégie (last_clicked, random_clicked, mean_embeddings)\n",
    "\n",
    "# Obtenir les recommandations\n",
    "recommendations = contentBasedRecommendArticle(embeddings, clicks, user_id, strategy, n=5)\n",
    "print(f\"Recommandations pour l'utilisateur {user_id} (stratégie: {strategy}): {recommendations}\")"
   ]
  },
  {
   "cell_type": "code",
   "execution_count": 180,
   "id": "92561fc5-c84b-4db2-8392-45496c81e142",
   "metadata": {},
   "outputs": [
    {
     "name": "stdout",
     "output_type": "stream",
     "text": [
      "Recommandations pour l'utilisateur 10 (stratégie: last_clicked): [205847, 207887, 207156, 206194, 207386]\n"
     ]
    }
   ],
   "source": [
    "user_id = 10  # Exemple de user_id\n",
    "strategy = 'last_clicked'  # Exemple de stratégie (last_clicked, random_clicked, mean_embeddings)\n",
    "\n",
    "# Obtenir les recommandations\n",
    "recommendations = contentBasedRecommendArticle(embeddings, clicks, user_id, strategy, n=5)\n",
    "print(f\"Recommandations pour l'utilisateur {user_id} (stratégie: {strategy}): {recommendations}\")"
   ]
  },
  {
   "cell_type": "code",
   "execution_count": 170,
   "id": "f43e2727-7639-473a-a780-86e34ee40619",
   "metadata": {},
   "outputs": [
    {
     "name": "stdout",
     "output_type": "stream",
     "text": [
      "Recommandations pour l'utilisateur 123 (stratégie: random_clicked): [348036, 290490, 347629, 290523, 290475]\n"
     ]
    }
   ],
   "source": [
    "user_id = 123  # Exemple de user_id\n",
    "strategy = 'random_clicked'  # Exemple de stratégie (last_clicked, random_clicked, mean_embeddings)\n",
    "\n",
    "# Obtenir les recommandations\n",
    "recommendations = contentBasedRecommendArticle(embeddings, clicks, user_id, strategy, n=5)\n",
    "print(f\"Recommandations pour l'utilisateur {user_id} (stratégie: {strategy}): {recommendations}\")"
   ]
  },
  {
   "cell_type": "markdown",
   "id": "7c3cd82e-0f72-47cb-ae7c-13f8d3d1f321",
   "metadata": {},
   "source": [
    "#### Exemples avec la matrice d'embeddings avec ACP"
   ]
  },
  {
   "cell_type": "code",
   "execution_count": 179,
   "id": "023540f8-6fff-4fbd-9dab-c6336e3bdeee",
   "metadata": {},
   "outputs": [
    {
     "name": "stdout",
     "output_type": "stream",
     "text": [
      "Recommandations pour l'utilisateur 5 (stratégie: mean_embeddings): [104516, 42943, 346110, 283276, 158992]\n"
     ]
    }
   ],
   "source": [
    "user_id = 5  # Exemple de user_id\n",
    "strategy = 'mean_embeddings'  # Exemple de stratégie (last_clicked, random_clicked, mean_embeddings)\n",
    "\n",
    "# Obtenir les recommandations\n",
    "recommendations = contentBasedRecommendArticle(embeddings_acp, clicks, user_id, strategy, n=5)\n",
    "print(f\"Recommandations pour l'utilisateur {user_id} (stratégie: {strategy}): {recommendations}\")"
   ]
  },
  {
   "cell_type": "code",
   "execution_count": 181,
   "id": "cb69efaa-0882-40aa-b92a-22ab6f330592",
   "metadata": {},
   "outputs": [
    {
     "name": "stdout",
     "output_type": "stream",
     "text": [
      "Recommandations pour l'utilisateur 10 (stratégie: last_clicked): [207887, 207156, 205847, 207386, 206109]\n"
     ]
    }
   ],
   "source": [
    "user_id = 10 # Exemple de user_id\n",
    "strategy = 'last_clicked'  # Exemple de stratégie (last_clicked, random_clicked, mean_embeddings)\n",
    "\n",
    "# Obtenir les recommandations\n",
    "recommendations = contentBasedRecommendArticle(embeddings_acp, clicks, user_id, strategy, n=5)\n",
    "print(f\"Recommandations pour l'utilisateur {user_id} (stratégie: {strategy}): {recommendations}\")"
   ]
  },
  {
   "cell_type": "code",
   "execution_count": 174,
   "id": "68d1643d-fa16-46fc-a2c3-6ffda98a08d0",
   "metadata": {},
   "outputs": [
    {
     "name": "stdout",
     "output_type": "stream",
     "text": [
      "Recommandations pour l'utilisateur 123 (stratégie: random_clicked): [159563, 157129, 160675, 158663, 156852]\n"
     ]
    }
   ],
   "source": [
    "user_id = 123  # Exemple de user_id\n",
    "strategy = 'random_clicked'  # Exemple de stratégie (last_clicked, random_clicked, mean_embeddings)\n",
    "\n",
    "# Obtenir les recommandations\n",
    "recommendations = contentBasedRecommendArticle(embeddings_acp, clicks, user_id, strategy, n=5)\n",
    "print(f\"Recommandations pour l'utilisateur {user_id} (stratégie: {strategy}): {recommendations}\")"
   ]
  },
  {
   "cell_type": "markdown",
   "id": "d1127042-cc10-48a6-a703-99ec036ea395",
   "metadata": {},
   "source": [
    "### Collaborative Filtering"
   ]
  },
  {
   "cell_type": "markdown",
   "id": "5e0ce373-3cae-46ba-b95a-bbd4d8cf46ed",
   "metadata": {},
   "source": [
    "Le Collaborative Filtering ou filtrage collaboratif en français est une technique utilisée dans les système de recommandation. Elle vise à prédire les préfernces d'un utilisateur en se basant sur d'autres utilisateurs similaires.\n",
    "\n",
    "Pour réaliser notre systéme de recommandation d'articles basé sur la technique du collaborative filtering, nous utilisons un modèle SVD ( Singular Value Decomposition) implémenté dans la bibliothéque Surprise qui est une bibliothèque Python dédiée à la cosntruction et à l'analyse des systèmes de recommandation.\n",
    "\n",
    "SVD permet de prédire les scores que pourrait donner un utilisateur à des articles non lus sur la base des notes qu'ont effectivement accordé des utilisateurs similaires à ces mêmes articles.\n",
    "\n",
    "Pour ce faire, donc, nous avons besoin d'avoir accés aux évaluations faites par l'ensemble des utilisateurs de tous les articles de notre bas de donnée et ce afin de pouvoir prédire, pour chaque utilisateur, la note qu'il aurait donné à un article s'il l'avais lu.\n",
    "\n",
    "Or, pour notre projet, nous ne disposons pas de telles données. Il faut par conséquent contruire un score personnalisé qu'il faudra calculer en divisant le nombre de clicks sur un article donné par l'ensemble des clicks réalisés par l'utilisateur.\n",
    "\n",
    "Ce score est compris entre 0 et 1."
   ]
  },
  {
   "cell_type": "code",
   "execution_count": 51,
   "id": "335878d8-5587-496d-aefb-d9fc2a11ca91",
   "metadata": {},
   "outputs": [],
   "source": [
    "def article_ratings(clicks):\n",
    "    # Compter les clics par article et utilisateur\n",
    "    user_article_clicks = clicks.groupby(['user_id', 'click_article_id']).size().reset_index(name='click_count')\n",
    "    \n",
    "    # Compter les clics totaux par utilisateur\n",
    "    user_total_clicks = clicks.groupby('user_id')['click_article_id'].count().reset_index(name='total_clicks')\n",
    "    \n",
    "    # Fusionner les données de clics par article et totaux par utilisateur\n",
    "    ratings = pd.merge(user_article_clicks, user_total_clicks, on='user_id')\n",
    "    \n",
    "    # Calculer la proportion des clics pour chaque article\n",
    "    ratings['rating'] = ratings['click_count'] / ratings['total_clicks']\n",
    "    \n",
    "    # Nettoyer le DataFrame final\n",
    "    ratings = ratings.drop(columns=['click_count', 'total_clicks'])\n",
    "    ratings = ratings.rename(columns={'click_article_id': 'article_id'})\n",
    "    \n",
    "    return ratings"
   ]
  },
  {
   "cell_type": "code",
   "execution_count": 52,
   "id": "2f26b327-f941-482e-a79a-7e0ff4f844f0",
   "metadata": {},
   "outputs": [
    {
     "name": "stdout",
     "output_type": "stream",
     "text": [
      "   user_id  article_id  rating\n",
      "0        0       68866   0.125\n",
      "1        0       87205   0.125\n",
      "2        0       87224   0.125\n",
      "3        0       96755   0.125\n",
      "4        0      157541   0.125\n"
     ]
    }
   ],
   "source": [
    "# Calculer les ratings\n",
    "ratings = article_ratings(clicks)\n",
    "print(ratings.head())"
   ]
  },
  {
   "cell_type": "code",
   "execution_count": 44,
   "id": "fd169b55-8b8c-4dd2-a650-750684088a83",
   "metadata": {},
   "outputs": [],
   "source": [
    "# Spécifier le chemin où enregistrer le fichier pickle\n",
    "path_three = '/Users/Dhaker/Documents/Recommandation_App/azure_collaborative/ratings.pkl'\n",
    "\n",
    "# Créer le répertoire si ce n'est pas déjà fait\n",
    "os.makedirs(os.path.dirname(path_three), exist_ok=True)\n",
    "\n",
    "# Enregistrer le DataFrame en utilisant to_pickle\n",
    "ratings.to_pickle(path_three)"
   ]
  },
  {
   "cell_type": "code",
   "execution_count": 45,
   "id": "0b23288c-0e72-48ff-8e60-a9226702fb3e",
   "metadata": {},
   "outputs": [],
   "source": [
    "# Créer un Reader pour spécifier le format des données\n",
    "reader = Reader(rating_scale=(0, 1))\n",
    "\n",
    "# Charger les données dans le format surprise\n",
    "df = Dataset.load_from_df(ratings[['user_id', 'article_id', 'rating']], reader)"
   ]
  },
  {
   "cell_type": "code",
   "execution_count": 46,
   "id": "2acb6c40-31a3-4dc8-b7fe-a1594869baf5",
   "metadata": {},
   "outputs": [
    {
     "name": "stdout",
     "output_type": "stream",
     "text": [
      "RMSE: 0.1729\n"
     ]
    }
   ],
   "source": [
    "# Diviser les données en ensembles d'entraînement et de test\n",
    "trainset, testset = train_test_split(df, test_size=0.25)\n",
    "\n",
    "# Créer une instance de l'algorithme SVD\n",
    "algo = SVD()\n",
    "\n",
    "# Entraîner le modèle sur l'ensemble d'entraînement\n",
    "algo.fit(trainset)\n",
    "\n",
    "# Faire des prédictions sur l'ensemble de test\n",
    "predictions = algo.test(testset)\n",
    "\n",
    "# Évaluer la précision du modèle\n",
    "accuracy.rmse(predictions)\n",
    "\n",
    "# Enregistrer le modèle dans un fichier avec pickle\n",
    "with open('/Users/Dhaker/Documents/Recommandation_App/azure_collaborative/model_COFI.pkl', 'wb') as f:\n",
    "    pickle.dump(algo, f)\n"
   ]
  },
  {
   "cell_type": "code",
   "execution_count": 47,
   "id": "d0c63c3a-4eb4-42d0-a114-21a86e45f693",
   "metadata": {},
   "outputs": [],
   "source": [
    "def recommend_articles(user_id, algo, ratings, n=5):\n",
    "    # Obtenir tous les articles disponibles\n",
    "    all_articles = ratings['article_id'].unique()\n",
    "    \n",
    "    # Articles déjà notés par l'utilisateur\n",
    "    rated_articles = ratings[ratings['user_id'] == user_id]['article_id'].values\n",
    "    \n",
    "    # Articles non notés par l'utilisateur\n",
    "    unrated_articles = [article for article in all_articles if article not in rated_articles]\n",
    "    \n",
    "    # Prédire les notes pour les articles non notés\n",
    "    predictions = [algo.predict(user_id, article) for article in unrated_articles]\n",
    "    \n",
    "    # Trier les articles par note prédite\n",
    "    sorted_predictions = sorted(predictions, key=lambda x: x.est, reverse=True)\n",
    "    \n",
    "    # Retourner les n meilleurs articles recommandés\n",
    "    recommended_article_ids = [pred.iid for pred in sorted_predictions[:n]]\n",
    "    return recommended_article_ids"
   ]
  },
  {
   "cell_type": "code",
   "execution_count": 48,
   "id": "552b11f5-dd4b-4ea5-aad0-db11c6a103ac",
   "metadata": {},
   "outputs": [
    {
     "name": "stdout",
     "output_type": "stream",
     "text": [
      "Articles recommandés pour l'utilisateur 4: [250725, 114782, 268635, 298158, 338492]\n"
     ]
    }
   ],
   "source": [
    "# Obtenir les recommandations pour un utilisateur spécifique\n",
    "user_id = 4\n",
    "recommended_articles = recommend_articles(user_id, algo, ratings)\n",
    "print(f\"Articles recommandés pour l'utilisateur {user_id}: {recommended_articles}\")"
   ]
  },
  {
   "cell_type": "code",
   "execution_count": 49,
   "id": "f26a6356-a161-4ed4-8832-552ec7a1ef30",
   "metadata": {},
   "outputs": [
    {
     "name": "stdout",
     "output_type": "stream",
     "text": [
      "Articles recommandés pour l'utilisateur 135: [340931, 167041, 65802, 19470, 190954]\n"
     ]
    }
   ],
   "source": [
    "# Obtenir les recommandations pour un utilisateur spécifique\n",
    "user_id = 135\n",
    "recommended_articles = recommend_articles(user_id, algo, ratings)\n",
    "print(f\"Articles recommandés pour l'utilisateur {user_id}: {recommended_articles}\")"
   ]
  },
  {
   "cell_type": "code",
   "execution_count": 50,
   "id": "9c4c19c2-6d5d-4c32-b1e7-1f6d88a9885b",
   "metadata": {},
   "outputs": [
    {
     "name": "stdout",
     "output_type": "stream",
     "text": [
      "Articles recommandés pour l'utilisateur 0: [115017, 236250, 204678, 356603, 66234]\n"
     ]
    }
   ],
   "source": [
    "# Obtenir les recommandations pour un utilisateur spécifique\n",
    "user_id = 0\n",
    "recommended_articles = recommend_articles(user_id, algo, ratings)\n",
    "print(f\"Articles recommandés pour l'utilisateur {user_id}: {recommended_articles}\")"
   ]
  },
  {
   "cell_type": "code",
   "execution_count": null,
   "id": "908748a4-1995-4d64-b34a-4b2253b7e6a3",
   "metadata": {},
   "outputs": [],
   "source": []
  }
 ],
 "metadata": {
  "kernelspec": {
   "display_name": "recommender_env",
   "language": "python",
   "name": "recommender_env"
  },
  "language_info": {
   "codemirror_mode": {
    "name": "ipython",
    "version": 3
   },
   "file_extension": ".py",
   "mimetype": "text/x-python",
   "name": "python",
   "nbconvert_exporter": "python",
   "pygments_lexer": "ipython3",
   "version": "3.11.7"
  }
 },
 "nbformat": 4,
 "nbformat_minor": 5
}
